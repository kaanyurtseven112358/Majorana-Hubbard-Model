{
 "cells": [
  {
   "cell_type": "code",
   "execution_count": 1,
   "metadata": {},
   "outputs": [],
   "source": [
    "from qiskit_nature.second_q.hamiltonians import FermiHubbardModel\n",
    "from qiskit_nature.settings import QiskitNatureSettings\n",
    "from qiskit_nature.second_q.hamiltonians.lattices import (\n",
    "    BoundaryCondition,\n",
    "    LineLattice,\n",
    "    HyperCubicLattice,\n",
    "    SquareLattice,\n",
    ")\n",
    "\n",
    "\n",
    "import qiskit.quantum_info\n",
    "from qiskit_algorithms.minimum_eigensolvers import NumPyMinimumEigensolver\n",
    "from qiskit.quantum_info import SparsePauliOp\n",
    "from qiskit.quantum_info import DensityMatrix\n",
    "\n",
    "import numpy as np\n",
    "\n",
    "\n",
    "\n",
    "from qiskit_nature.second_q.mappers import JordanWignerMapper\n",
    "from qiskit_nature.second_q.problems import LatticeModelProblem\n",
    "\n",
    "\n",
    "import psutil\n",
    "import numpy as np\n",
    "import matplotlib.pyplot as plt\n",
    "import rustworkx as rx\n",
    "from rustworkx.visualization import mpl_draw\n",
    "import time\n",
    "import argparse\n",
    "from qiskit_algorithms.optimizers import SLSQP, SPSA\n",
    "from qiskit_algorithms.minimum_eigensolvers import VQE\n",
    "\n",
    "from qiskit_aer.primitives import Estimator as AerEstimator\n",
    "from qiskit.circuit.library import TwoLocal\n",
    "from qiskit_algorithms.utils import algorithm_globals\n"
   ]
  },
  {
   "cell_type": "code",
   "execution_count": 3,
   "metadata": {},
   "outputs": [],
   "source": [
    "def FHM(t, v, u, size):\n",
    "    '''\n",
    "    Second Quantized Hamiltonian for the Fermi-Hubbard model in a periodic cube\n",
    "    Returns the hamiltonian\n",
    "    :param self:\n",
    "    :param t:the interaction parameter\n",
    "    :param v:the onsite potential\n",
    "    :param u:\n",
    "    :param size: Size of the lattice\n",
    "    :return:\n",
    "    '''\n",
    "\n",
    "    boundary_condition = (\n",
    "        BoundaryCondition.OPEN,\n",
    "    )*3\n",
    "    linear_lattice = HyperCubicLattice(size=[size]*3, boundary_condition=boundary_condition)\n",
    "    QiskitNatureSettings.use_pauli_sum_op = False\n",
    "\n",
    "    fhm_linear = FermiHubbardModel(\n",
    "        linear_lattice.uniform_parameters(\n",
    "            uniform_interaction=t,\n",
    "            uniform_onsite_potential=v,\n",
    "        ),\n",
    "        onsite_interaction=u,\n",
    "    )\n",
    "    ham = fhm_linear.second_q_op()\n",
    "    \n",
    "    return ham\n"
   ]
  },
  {
   "cell_type": "code",
   "execution_count": 6,
   "metadata": {},
   "outputs": [
    {
     "data": {
      "text/plain": [
       "769"
      ]
     },
     "execution_count": 6,
     "metadata": {},
     "output_type": "execute_result"
    }
   ],
   "source": [
    "from qiskit_nature.second_q.mappers import JordanWignerMapper\n",
    "def FHMJW(t, v, u, size):\n",
    "    '''\n",
    "    Second Quantized Hamiltonian for the Fermi-Hubbard model in a periodic cube\n",
    "    Returns the hamiltonian\n",
    "    :param self:\n",
    "    :param t:the interaction parameter\n",
    "    :param v:the onsite potential\n",
    "    :param u:\n",
    "    :param size: Size of the lattice\n",
    "    :return:\n",
    "    '''\n",
    "\n",
    "    boundary_condition = (\n",
    "        BoundaryCondition.OPEN,\n",
    "    )*3\n",
    "    linear_lattice = HyperCubicLattice(size=[size]*3, boundary_condition=boundary_condition)\n",
    "    QiskitNatureSettings.use_pauli_sum_op = False\n",
    "\n",
    "    fhm_linear = FermiHubbardModel(\n",
    "        linear_lattice.uniform_parameters(\n",
    "            uniform_interaction=t,\n",
    "            uniform_onsite_potential=v,\n",
    "        ),\n",
    "        onsite_interaction=u,\n",
    "    )\n",
    "    ham = fhm_linear.second_q_op()\n",
    "    hamJW=JordanWignerMapper().map(ham)\n",
    "    return hamJW\n",
    "len(FHMJW(1, 1, 1, 4).paulis)"
   ]
  },
  {
   "cell_type": "code",
   "execution_count": 9,
   "metadata": {},
   "outputs": [],
   "source": [
    "from functools import reduce\n",
    "def construct_2Qhamiltonian_with_majorana(num_sites, hopping_parameter, onsite_interaction):\n",
    "    ham = FHM(1, 1, 1, 4)\n",
    "    hamJW=JordanWignerMapper().map(ham)\n",
    "    num_spin_orbitals = ham.num_spin_orbitals\n",
    "    tot=[]\n",
    "    for label, coeff in ham.items():\n",
    "        ops = label.split(\" \")\n",
    "        \n",
    "        mult=[]\n",
    "        for o in ops:\n",
    "     \n",
    "            typ, site = o.split(\"_\")\n",
    "            site = int(site)\n",
    "            if typ == \"+\":\n",
    "                majop = majorana_to_Pauli(site,num_spin_orbitals,True)-majorana_to_Pauli(site,num_spin_orbitals,False)\n",
    "            elif typ==\"-\":\n",
    "                majop = majorana_to_Pauli(site,num_spin_orbitals,True)+majorana_to_Pauli(site,num_spin_orbitals,False)\n",
    "            mult.append(majop)\n",
    "        majterm = reduce(lambda a,b: a@b,mult)\n",
    "        tot.append(coeff*majterm)\n",
    "    return reduce(lambda a,b:a+b,tot).simplify(),hamJW\n",
    "def majorana_to_Pauli(j, num_spin_orbital,maj_site):\n",
    "    if maj_site:\n",
    "        \n",
    "        return SparsePauliOp((num_spin_orbital-j-1)*\"I\"+\"X\"+\"Z\"*j,coeffs=[0.5])\n",
    "    else:\n",
    "        return SparsePauliOp((num_spin_orbital-j-1)*\"I\"+\"Y\"+\"Z\"*j,coeffs=[0.5j])"
   ]
  },
  {
   "cell_type": "code",
   "execution_count": 10,
   "metadata": {},
   "outputs": [
    {
     "data": {
      "text/plain": [
       "(769, 769)"
      ]
     },
     "execution_count": 10,
     "metadata": {},
     "output_type": "execute_result"
    }
   ],
   "source": [
    "h1,h2=construct_2Qhamiltonian_with_majorana(1,1,1)\n",
    "h1.size,h2.size"
   ]
  },
  {
   "cell_type": "code",
   "execution_count": null,
   "metadata": {},
   "outputs": [],
   "source": []
  }
 ],
 "metadata": {
  "kernelspec": {
   "display_name": "Python 3",
   "language": "python",
   "name": "python3"
  },
  "language_info": {
   "codemirror_mode": {
    "name": "ipython",
    "version": 3
   },
   "file_extension": ".py",
   "mimetype": "text/x-python",
   "name": "python",
   "nbconvert_exporter": "python",
   "pygments_lexer": "ipython3",
   "version": "3.8.5"
  }
 },
 "nbformat": 4,
 "nbformat_minor": 4
}
